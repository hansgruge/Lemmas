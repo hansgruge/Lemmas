{
 "cells": [
  {
   "cell_type": "code",
   "execution_count": 3,
   "metadata": {
    "collapsed": true
   },
   "outputs": [],
   "source": [
    "import gzip\n",
    "import re\n",
    "import lemmadict"
   ]
  },
  {
   "cell_type": "code",
   "execution_count": 25,
   "metadata": {
    "collapsed": false
   },
   "outputs": [],
   "source": [
    "def read_data(file_to_read, rows):\n",
    "    d = {}\n",
    "    root = '#'\n",
    "    list_of_POS = ['ADV','ADJ','PRON','NOUN','VERB','PROPN','CONJ','NUM','SCONJ','ADP', 'INTJ']\n",
    "    error_count = 0\n",
    "    uusia = 0\n",
    "    olevia = 0\n",
    "    with gzip.open(file_to_read, 'r') as rf:\n",
    "        \n",
    "        for i, line in enumerate(rf):\n",
    "            if re.match('#', line) or len(line) <= 1:\n",
    "                continue\n",
    "            elif line.strip() in list_of_POS:\n",
    "                root = line.strip()\n",
    "            else:\n",
    "                #Just wanted adjectives nothing else\n",
    "                if(root != 'ADJ'):\n",
    "                    continue\n",
    "                #split csv lines to list\n",
    "                cols = line.split(',')\n",
    "                #everything in lowercase and extra padding away spaces tabs etc. and utf8\n",
    "                cols = [x.lower().strip().decode('UTF-8') for x in cols]\n",
    "                #line to features just makes easier to follow. 1st is lemma so strip that off.\n",
    "                feats = cols[1:]\n",
    "                new_word = True\n",
    "                #print cols[2]\n",
    "                #split features to pieces\n",
    "                for feat in feats:\n",
    "                    feat = feat.split(':')\n",
    "                    if len(feat) <=1:\n",
    "                        continue\n",
    "                    #POS to dict and create inner dictionary for lemmas if POS doesn't exist\n",
    "                    \n",
    "                    \n",
    "                    if root not in d:\n",
    "                        try:\n",
    "                            d[root] = {}\n",
    "                        except:\n",
    "                            print 'error on line {} for POS.'.format(i)\n",
    "                            break\n",
    "                    #Lemmas to dict if doen't exist create new dictionary for features\n",
    "                    if cols[0] not in d[root]:\n",
    "                        try:\n",
    "                            d[root][cols[0]] = {}\n",
    "                        except:\n",
    "                            print 'error on line {} for lemma.'.format(i)\n",
    "                            break\n",
    "                    # total number of features per lemma\n",
    "                    if feat[0] not in d[root][cols[0]]:\n",
    "                        if new_word:\n",
    "                            uusia += 1\n",
    "                            new_word = False\n",
    "                        try:\n",
    "                            d[root][cols[0]][feat[0]] = int(feat[1])\n",
    "                        except ValueError:\n",
    "                            error_count += 1\n",
    "                            continue\n",
    "                    else:\n",
    "                        if not new_word: \n",
    "                            olevia += 1\n",
    "                        try:\n",
    "                            d[root][cols[0]][feat[0]] += int(feat[1])\n",
    "                        except ValueError:\n",
    "                            error_count += 1\n",
    "                            continue\n",
    "            if rows < 0:\n",
    "                if i%1000000 == 0:\n",
    "                    print i\n",
    "                continue\n",
    "            elif i >= rows:\n",
    "                print 'break {}'.format(i)\n",
    "                break\n",
    "        \n",
    "        print 'New words {}, used words {} and errors {}.'.format(uusia, olevia, error_count)\n",
    "        return d  "
   ]
  },
  {
   "cell_type": "code",
   "execution_count": 26,
   "metadata": {
    "collapsed": false
   },
   "outputs": [
    {
     "name": "stdout",
     "output_type": "stream",
     "text": [
      "0\n",
      "31000000\n",
      "32000000\n",
      "New words 1855261, used words 17127 and errors 76.\n",
      "CPU times: user 1min 26s, sys: 548 ms, total: 1min 27s\n",
      "Wall time: 1min 27s\n"
     ]
    }
   ],
   "source": [
    "file_name = '../../../versions/2016-10-06/output.csv.gz'\n",
    "dd = {}\n",
    "#function call name of file and how many rows to read. easier to test in 1st place. set -1 for whole file.\n",
    "%time dd = read_data(file_name, -1)"
   ]
  },
  {
   "cell_type": "code",
   "execution_count": 27,
   "metadata": {
    "collapsed": false
   },
   "outputs": [
    {
     "name": "stdout",
     "output_type": "stream",
     "text": [
      "<type 'dict'>\n",
      "['ADJ 1844249']\n"
     ]
    }
   ],
   "source": [
    "print type(dd)\n",
    "print [x + ' ' + str(len(dd[x])) for x in dd.keys() ]"
   ]
  },
  {
   "cell_type": "code",
   "execution_count": 32,
   "metadata": {
    "collapsed": false
   },
   "outputs": [
    {
     "data": {
      "text/plain": [
       "{u'case=abe': 1,\n",
       " u'case=abl': 40323,\n",
       " u'case=ade': 42,\n",
       " u'case=all': 7931,\n",
       " u'case=ela': 39,\n",
       " u'case=ess': 16597,\n",
       " u'case=gen': 108295,\n",
       " u'case=ill': 93976,\n",
       " u'case=ine': 18026,\n",
       " u'case=ins': 9,\n",
       " u'case=nom': 620124,\n",
       " u'case=par': 293011,\n",
       " u'case=tra': 7496,\n",
       " u'clitic=han': 10,\n",
       " u'clitic=kaan': 494,\n",
       " u'clitic=kin': 13951,\n",
       " u'clitic=ko': 4,\n",
       " u'degree=cmp': 1203989,\n",
       " u'degree=pos': 1366,\n",
       " u'degree=sup': 515,\n",
       " u'derivation=inen': 502,\n",
       " u'derivation=lainen': 11,\n",
       " u'number=plur': 130374,\n",
       " u'number=sing': 1075496,\n",
       " u'number[psor]=sing': 5,\n",
       " u'person[psor]=1': 1,\n",
       " u'person[psor]=2': 4,\n",
       " u'person[psor]=3': 332}"
      ]
     },
     "execution_count": 32,
     "metadata": {},
     "output_type": "execute_result"
    }
   ],
   "source": [
    "dd['ADJ']['parka']"
   ]
  },
  {
   "cell_type": "code",
   "execution_count": 31,
   "metadata": {
    "collapsed": false
   },
   "outputs": [
    {
     "ename": "TypeError",
     "evalue": "unhashable type: 'list'",
     "output_type": "error",
     "traceback": [
      "\u001b[0;31m---------------------------------------------------------------------------\u001b[0m",
      "\u001b[0;31mTypeError\u001b[0m                                 Traceback (most recent call last)",
      "\u001b[0;32m<ipython-input-31-9aa8136973e3>\u001b[0m in \u001b[0;36m<module>\u001b[0;34m()\u001b[0m\n\u001b[0;32m----> 1\u001b[0;31m \u001b[0mdd\u001b[0m\u001b[0;34m[\u001b[0m\u001b[0mdd\u001b[0m\u001b[0;34m.\u001b[0m\u001b[0mkeys\u001b[0m\u001b[0;34m(\u001b[0m\u001b[0;34m)\u001b[0m\u001b[0;34m]\u001b[0m\u001b[0;34m\u001b[0m\u001b[0m\n\u001b[0m",
      "\u001b[0;31mTypeError\u001b[0m: unhashable type: 'list'"
     ]
    }
   ],
   "source": [
    "dd['ADJ'].vie"
   ]
  },
  {
   "cell_type": "code",
   "execution_count": 24,
   "metadata": {
    "collapsed": false
   },
   "outputs": [
    {
     "ename": "UnicodeEncodeError",
     "evalue": "'ascii' codec can't encode character u'\\xbb' in position 0: ordinal not in range(128)",
     "output_type": "error",
     "traceback": [
      "\u001b[0;31m---------------------------------------------------------------------------\u001b[0m",
      "\u001b[0;31mUnicodeEncodeError\u001b[0m                        Traceback (most recent call last)",
      "\u001b[0;32m<ipython-input-24-b9233e3add23>\u001b[0m in \u001b[0;36m<module>\u001b[0;34m()\u001b[0m\n\u001b[1;32m      1\u001b[0m \u001b[0;32mimport\u001b[0m \u001b[0mlemmadict\u001b[0m\u001b[0;34m\u001b[0m\u001b[0m\n\u001b[0;32m----> 2\u001b[0;31m \u001b[0mlemmadict\u001b[0m\u001b[0;34m.\u001b[0m\u001b[0mwrite_to_csv\u001b[0m\u001b[0;34m(\u001b[0m\u001b[0mdd\u001b[0m\u001b[0;34m)\u001b[0m\u001b[0;34m\u001b[0m\u001b[0m\n\u001b[0m",
      "\u001b[0;32m/home/hansgruge/Dropbox/omat/mikko/Yliopisto/gradu/github/Lemmas/git/lemmadict.pyc\u001b[0m in \u001b[0;36mwrite_to_csv\u001b[0;34m(dict_to_write)\u001b[0m\n\u001b[1;32m     59\u001b[0m                 \u001b[0mtemp\u001b[0m \u001b[0;34m=\u001b[0m \u001b[0mtemp\u001b[0m \u001b[0;34m+\u001b[0m \u001b[0;34m'\\n'\u001b[0m\u001b[0;34m\u001b[0m\u001b[0m\n\u001b[1;32m     60\u001b[0m                 \u001b[0;31m#print temp\u001b[0m\u001b[0;34m\u001b[0m\u001b[0;34m\u001b[0m\u001b[0m\n\u001b[0;32m---> 61\u001b[0;31m                 \u001b[0mcsv_file\u001b[0m\u001b[0;34m.\u001b[0m\u001b[0mwrite\u001b[0m\u001b[0;34m(\u001b[0m\u001b[0mtemp\u001b[0m\u001b[0;34m.\u001b[0m\u001b[0mencode\u001b[0m\u001b[0;34m(\u001b[0m\u001b[0;34m'utf-8'\u001b[0m\u001b[0;34m)\u001b[0m\u001b[0;34m)\u001b[0m\u001b[0;34m\u001b[0m\u001b[0m\n\u001b[0m\u001b[1;32m     62\u001b[0m \u001b[0;34m\u001b[0m\u001b[0m\n\u001b[1;32m     63\u001b[0m \u001b[0;32mdef\u001b[0m \u001b[0mmain\u001b[0m\u001b[0;34m(\u001b[0m\u001b[0;34m)\u001b[0m\u001b[0;34m:\u001b[0m\u001b[0;34m\u001b[0m\u001b[0m\n",
      "\u001b[0;32m/usr/lib/python2.7/gzip.pyc\u001b[0m in \u001b[0;36mwrite\u001b[0;34m(self, data)\u001b[0m\n\u001b[1;32m    239\u001b[0m \u001b[0;34m\u001b[0m\u001b[0m\n\u001b[1;32m    240\u001b[0m         \u001b[0;32mif\u001b[0m \u001b[0mlen\u001b[0m\u001b[0;34m(\u001b[0m\u001b[0mdata\u001b[0m\u001b[0;34m)\u001b[0m \u001b[0;34m>\u001b[0m \u001b[0;36m0\u001b[0m\u001b[0;34m:\u001b[0m\u001b[0;34m\u001b[0m\u001b[0m\n\u001b[0;32m--> 241\u001b[0;31m             \u001b[0mself\u001b[0m\u001b[0;34m.\u001b[0m\u001b[0mfileobj\u001b[0m\u001b[0;34m.\u001b[0m\u001b[0mwrite\u001b[0m\u001b[0;34m(\u001b[0m\u001b[0mself\u001b[0m\u001b[0;34m.\u001b[0m\u001b[0mcompress\u001b[0m\u001b[0;34m.\u001b[0m\u001b[0mcompress\u001b[0m\u001b[0;34m(\u001b[0m\u001b[0mdata\u001b[0m\u001b[0;34m)\u001b[0m\u001b[0;34m)\u001b[0m\u001b[0;34m\u001b[0m\u001b[0m\n\u001b[0m\u001b[1;32m    242\u001b[0m             \u001b[0mself\u001b[0m\u001b[0;34m.\u001b[0m\u001b[0msize\u001b[0m \u001b[0;34m+=\u001b[0m \u001b[0mlen\u001b[0m\u001b[0;34m(\u001b[0m\u001b[0mdata\u001b[0m\u001b[0;34m)\u001b[0m\u001b[0;34m\u001b[0m\u001b[0m\n\u001b[1;32m    243\u001b[0m             \u001b[0mself\u001b[0m\u001b[0;34m.\u001b[0m\u001b[0mcrc\u001b[0m \u001b[0;34m=\u001b[0m \u001b[0mzlib\u001b[0m\u001b[0;34m.\u001b[0m\u001b[0mcrc32\u001b[0m\u001b[0;34m(\u001b[0m\u001b[0mdata\u001b[0m\u001b[0;34m,\u001b[0m \u001b[0mself\u001b[0m\u001b[0;34m.\u001b[0m\u001b[0mcrc\u001b[0m\u001b[0;34m)\u001b[0m \u001b[0;34m&\u001b[0m \u001b[0;36m0xffffffffL\u001b[0m\u001b[0;34m\u001b[0m\u001b[0m\n",
      "\u001b[0;31mUnicodeEncodeError\u001b[0m: 'ascii' codec can't encode character u'\\xbb' in position 0: ordinal not in range(128)"
     ]
    }
   ],
   "source": [
    "import lemmadict\n",
    "lemmadict.write_to_csv(dd)"
   ]
  },
  {
   "cell_type": "code",
   "execution_count": null,
   "metadata": {
    "collapsed": true
   },
   "outputs": [],
   "source": []
  }
 ],
 "metadata": {
  "kernelspec": {
   "display_name": "Python 2",
   "language": "python",
   "name": "python2"
  },
  "language_info": {
   "codemirror_mode": {
    "name": "ipython",
    "version": 2
   },
   "file_extension": ".py",
   "mimetype": "text/x-python",
   "name": "python",
   "nbconvert_exporter": "python",
   "pygments_lexer": "ipython2",
   "version": "2.7.12"
  }
 },
 "nbformat": 4,
 "nbformat_minor": 1
}
